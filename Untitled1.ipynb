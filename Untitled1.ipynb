{
  "nbformat": 4,
  "nbformat_minor": 0,
  "metadata": {
    "colab": {
      "provenance": []
    },
    "kernelspec": {
      "name": "python3",
      "display_name": "Python 3"
    },
    "language_info": {
      "name": "python"
    }
  },
  "cells": [
    {
      "cell_type": "code",
      "execution_count": null,
      "metadata": {
        "colab": {
          "base_uri": "https://localhost:8080/"
        },
        "id": "I-SiKFXEIN55",
        "outputId": "aecb85ee-ca96-46a9-8b1e-3091c9c66492"
      },
      "outputs": [
        {
          "output_type": "stream",
          "name": "stdout",
          "text": [
            "b'gAAAAABnrh2QBOGs-7OFOh9Wfd6gM1rfy1QDIWt-XdZMaTPEIuEZx1OxgGq7Us5jTS2sm9K37Rlo1IQY1TCNi9M4Had3t05DQdp0SA2sfzhdOAayQIieyGU='\n",
            "b'First name Bizimana'\n",
            "b'gAAAAABnrh2Qd2pcanw1KBXZzDSS0xoHEM6Dsscwd_gwjlM5PcOlL9fLn3nEFPAJ8Ifulyq1npIJElEKCJ0UKla9ayUaIFkxg63tiSsv-xqSyn2wdT8guto='\n",
            "b'Last name Baruani'\n"
          ]
        }
      ],
      "source": [
        "from cryptography.fernet import Fernet\n",
        "# Generate a key\n",
        "key = Fernet.generate_key()\n",
        "from cryptography.fernet import Fernet\n",
        "# Generate a key\n",
        "key = Fernet.generate_key()\n",
        "cipher_suite = Fernet(key)\n",
        "\n",
        "#First name to encrypt\n",
        "message = b\"First name ISHIMWE NTIRENGANYA\" # added b\"\" to make it bytes\n",
        "\n",
        "#Encrypt\n",
        "encrypted_message = cipher_suite.encrypt(message)\n",
        "print(encrypted_message)\n",
        "\n",
        "#Decrypt\n",
        "decrypted_message = cipher_suite.decrypt(encrypted_message)\n",
        "print(decrypted_message)\n",
        "\n",
        "#First name to encrypt\n",
        "message1 = b\"Last name Cedric\"\n",
        "\n",
        "#Encrypt\n",
        "encrypted_message = cipher_suite.encrypt(message1)\n",
        "print(encrypted_message)\n",
        "\n",
        "#Decrypt\n",
        "decrypted_message = cipher_suite.decrypt(encrypted_message)\n",
        "print(decrypted_message)"
      ]
    }
  ]
}